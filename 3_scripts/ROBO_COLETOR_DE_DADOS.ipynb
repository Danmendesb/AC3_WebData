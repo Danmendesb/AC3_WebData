{
 "cells": [
  {
   "cell_type": "code",
   "execution_count": null,
   "metadata": {},
   "outputs": [],
   "source": [
    "''' Nome: Daniel Mendes          RA: 2301187\n",
    "    Nome: Danilo de Castro       RA: 2300147\n",
    "    Nome: Vitor Carneiro         RA: 2300988\n",
    "\n",
    "AC2 Web Data Application - TURMA BANCO DE DADOS (BD2ºA NOITE)\n",
    "TEMA: Furto de Veiculo DEMACRO\n",
    "\n",
    "CRIANDO UM ROBÔ SIMPLES PARA COLETAR DADOS DE UM SITE, REALIZANDO O SALVAMENTOS \n",
    "DOS ARQUIVOS BAIXADOS EM UMA PASTA JÁ CRIADA.\n",
    "'''"
   ]
  },
  {
   "cell_type": "code",
   "execution_count": 3,
   "metadata": {},
   "outputs": [],
   "source": [
    "# FAZENDO A IMPORTAÇÃO DAS BIBLIOTECAS QUE SERÃO UTILIZADAS NA ATIVIDADE.\n",
    "import os\n",
    "import pandas as pd\n",
    "from selenium import webdriver\n",
    "from selenium.webdriver.common.by import By\n",
    "from selenium.webdriver.support.ui import WebDriverWait\n",
    "from selenium.webdriver.support import expected_conditions as Ec\n"
   ]
  },
  {
   "cell_type": "code",
   "execution_count": 4,
   "metadata": {},
   "outputs": [],
   "source": [
    "# CRIANDO A OPÇÃO DE SALVAMENTO DE DOWNLOADS DENTRO DA PASTA ESPECIFICA INDICADA\n",
    "download_path = os.path.join(os.getcwd(), '0_bases_originais')\n",
    "if not os.path.exists(download_path):\n",
    "    os.makedirs(download_path)\n",
    "\n",
    "#CRIANDO O PADRÃO DE CONFIGURAÇÃO BÁSICA DO NAVEGADOR\n",
    "chrome_options = webdriver.ChromeOptions()\n",
    "chrome_options.add_argument('--disable-notifications')\n",
    "chrome_options.add_experimental_option(\"prefs\", {\n",
    "    \"download.default_directory\": download_path,  # Define o local de download\n",
    "    \"download.prompt_for_download\": False,  # Não perguntar onde salvar os downloads\n",
    "    \"download.directory_upgrade\": True,\n",
    "    \"safebrowsing.enabled\": True\n",
    "})\n",
    "\n",
    "# CRIANDO UM ACESSO PARA O NAVEGADOR\n",
    "#navegador = webdriver.Chrome()\n",
    "navegador = webdriver.Chrome(options=chrome_options)\n",
    "navegador.get('http://www.ssp.sp.gov.br/transparenciassp/Consulta2022.aspx')\n",
    "\n",
    "# CRIANDO A AÇÃO PARA CLICAR NA OPÇÃO >> FURTO DE VEÍCULO <<\n",
    "navegador.find_element(By.ID, 'cphBody_btnFurtoVeiculo').click()\n",
    "\n",
    "# CRIANDO A AÇÃO DE CLICAR NA CAIXINHA DE >> DEPARTAMENTO <<\n",
    "navegador.find_element(By.ID, 'cphBody_filtroDepartamento').click()\n",
    "# CRIANDO A AÇÃO DE CLICAR NA OPÇÃO >>> DEMACRO <<< DENTRO DA CAIXINHA DE DEPRTAMENTO\n",
    "navegador.find_element(By.XPATH,'//*[@id=\"cphBody_filtroDepartamento\"]/option[2]').click()\n",
    "\n",
    "# CRIANDO A AÇÃO DE CLICAR NO ANO BASE, ONDE SERÁ BUSCADO OS DADOS\n",
    "navegador.find_element(By.XPATH, '//*[@id=\"cphBody_lkAno22\"]').click()\n",
    "\n",
    "\n",
    "# CRIANDO A LISTA COM O NOME DOS MESES\n",
    "meses = ['Janeiro', 'Fevereiro', 'Março', 'Abril', 'Maio', 'Junho', 'Julho', 'Agosto', 'Setembro', 'Outubro', 'Novembro', 'Dezembro']\n",
    "\n",
    "# CRIANDO UM LAÇO PARA BUSCAR AS INFORMAÇÕES EM TODOS OS MESES\n",
    "for mes in meses:\n",
    "  try:\n",
    "    # CRIANDO A OPÇÃO PARA QUE TENHA UM TEMPO DE ESPERA ATÉ QUE SEJA ACHADA A INFORMAÇÃO QUE ESTAMOS BUSCANDO\n",
    "    WebDriverWait(navegador, 10).until(Ec.element_to_be_clickable((By.LINK_TEXT, mes)))\n",
    "    \n",
    "  finally:\n",
    "    # OPÇÃO PARA CLICAR NO LINK >>> MÊS <<<\n",
    "    navegador.find_element(By.LINK_TEXT,mes).click()\n",
    "    # CRIANDO UM TEMPO DE ESPERA PARA O BOTÃO DE >>> EXPORTAÇÃO <<<\n",
    "    WebDriverWait(navegador, 120).until(Ec.presence_of_element_located((By.XPATH, '//*[@id=\"cphBody_ExportarBOLink\"]/span')))\n",
    "    # CRIANDO A AÇÃO PARA QUE SEJA CLICADO NO BOTÃO >>> EXPORTAÇÃO <<<\n",
    "    navegador.find_element(By.XPATH,'//*[@id=\"cphBody_ExportarBOLink\"]').click()\n",
    "\n",
    "\n",
    "\n",
    "# FECHAR O NAVEGADOR APÓS CONCLUSÃO!\n",
    "navegador.quit()\n",
    "print('Parabéns!')\n",
    "print('Todos seus arquivos foram baixados com SUCESSO!')"
   ]
  }
 ],
 "metadata": {
  "kernelspec": {
   "display_name": "Python 3",
   "language": "python",
   "name": "python3"
  },
  "language_info": {
   "codemirror_mode": {
    "name": "ipython",
    "version": 3
   },
   "file_extension": ".py",
   "mimetype": "text/x-python",
   "name": "python",
   "nbconvert_exporter": "python",
   "pygments_lexer": "ipython3",
   "version": "3.11.4"
  },
  "orig_nbformat": 4
 },
 "nbformat": 4,
 "nbformat_minor": 2
}
